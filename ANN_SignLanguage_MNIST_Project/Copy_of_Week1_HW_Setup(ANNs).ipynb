{
  "nbformat": 4,
  "nbformat_minor": 0,
  "metadata": {
    "colab": {
      "provenance": []
    },
    "kernelspec": {
      "name": "python3",
      "display_name": "Python 3"
    },
    "language_info": {
      "name": "python"
    }
  },
  "cells": [
    {
      "cell_type": "markdown",
      "source": [
        "**<h1 style=\"color:red\"> MAKE A COPY OF THIS NOTEBOOK TO START WORKING</h1>**"
      ],
      "metadata": {
        "id": "K8LtVIZXxbXo"
      }
    },
    {
      "cell_type": "markdown",
      "source": [
        "Import Statements"
      ],
      "metadata": {
        "id": "hzknO2vPHM8I"
      }
    },
    {
      "cell_type": "code",
      "source": [
        "import os\n",
        "import numpy as np\n",
        "import pandas as pd\n",
        "import glob\n",
        "import matplotlib.pyplot as plt\n",
        "\n",
        "# CODE HERE (add more imports)\n",
        "import torch\n",
        "import torch.nn as nn\n",
        "from tqdm import tqdm"
      ],
      "metadata": {
        "id": "fJGRKDYcHMyF"
      },
      "execution_count": 39,
      "outputs": []
    },
    {
      "cell_type": "markdown",
      "source": [
        "#Import the Dataset"
      ],
      "metadata": {
        "id": "FeAbalUB74pH"
      }
    },
    {
      "cell_type": "markdown",
      "source": [
        "Kaggle is an open source dataset library. We will pull a dataset from Kaggle using the kagglehub API; this allows us to import datasets right into our google colab notebook without having to generate a API key. This is the link to the dataset if you would like to check it out!\n",
        "\n",
        "https://www.kaggle.com/datasets/datamunge/sign-language-mnist/data"
      ],
      "metadata": {
        "id": "amnTy5d97RcJ"
      }
    },
    {
      "cell_type": "markdown",
      "source": [],
      "metadata": {
        "id": "hWEKimvMtzdn"
      }
    },
    {
      "cell_type": "markdown",
      "source": [
        "<img src=\"https://storage.googleapis.com/kaggle-datasets-images/3258/5337/0dade1b95b22cceac471b309fc8a8f63/dataset-cover.png\" alt=\"Sign Language Dataset\">\n",
        "\n"
      ],
      "metadata": {
        "id": "Zx-LVP7N6nph"
      }
    },
    {
      "cell_type": "markdown",
      "source": [
        "#### Before we import the dataset, let's create a dictionary that matches a numerical index to one of the letters that is being signed.\n",
        "\n",
        "Tips:\n",
        "- Start the index at 0 (so '0': 'A' should be the first entry in the dictionary)\n",
        "- The letter J isn't included in this dataset, so skip this (should have 25 entries in dictionary in total; indices from 0 to 24)."
      ],
      "metadata": {
        "id": "Rc0VuFm86MG3"
      }
    },
    {
      "cell_type": "code",
      "source": [
        "num_to_letter = {\n",
        "  0: 'A',\n",
        "  1: 'B',\n",
        "  2: 'C',\n",
        "  3: 'D',\n",
        "  4: 'E',\n",
        "  5: 'F',\n",
        "  6: 'G',\n",
        "  7: 'H',\n",
        "  8: 'I',\n",
        "  9: 'K',\n",
        "  10: 'L',\n",
        "  11: 'M',\n",
        "  12: 'N',\n",
        "  13: 'O',\n",
        "  14: 'P',\n",
        "  15: 'Q',\n",
        "  16: 'R',\n",
        "  17: 'S',\n",
        "  18: 'T',\n",
        "  19: 'U',\n",
        "  20: 'V',\n",
        "  21: 'W',\n",
        "  22: 'X',\n",
        "  23: 'Y',\n",
        "  24: 'Z'\n",
        "}\n"
      ],
      "metadata": {
        "id": "yfFtMQfA6FNp"
      },
      "execution_count": 40,
      "outputs": []
    },
    {
      "cell_type": "markdown",
      "source": [
        "#### Import Kaggle & the Dataset"
      ],
      "metadata": {
        "id": "vbefnzdt7K3X"
      }
    },
    {
      "cell_type": "code",
      "execution_count": 41,
      "metadata": {
        "id": "l1buyY9-NghG",
        "colab": {
          "base_uri": "https://localhost:8080/"
        },
        "outputId": "ff6c26a4-aad1-4abd-8730-f88b8b17c883"
      },
      "outputs": [
        {
          "output_type": "stream",
          "name": "stdout",
          "text": [
            "Requirement already satisfied: kagglehub in /usr/local/lib/python3.11/dist-packages (0.3.12)\n",
            "Requirement already satisfied: packaging in /usr/local/lib/python3.11/dist-packages (from kagglehub) (24.2)\n",
            "Requirement already satisfied: pyyaml in /usr/local/lib/python3.11/dist-packages (from kagglehub) (6.0.2)\n",
            "Requirement already satisfied: requests in /usr/local/lib/python3.11/dist-packages (from kagglehub) (2.32.3)\n",
            "Requirement already satisfied: tqdm in /usr/local/lib/python3.11/dist-packages (from kagglehub) (4.67.1)\n",
            "Requirement already satisfied: charset-normalizer<4,>=2 in /usr/local/lib/python3.11/dist-packages (from requests->kagglehub) (3.4.2)\n",
            "Requirement already satisfied: idna<4,>=2.5 in /usr/local/lib/python3.11/dist-packages (from requests->kagglehub) (3.10)\n",
            "Requirement already satisfied: urllib3<3,>=1.21.1 in /usr/local/lib/python3.11/dist-packages (from requests->kagglehub) (2.4.0)\n",
            "Requirement already satisfied: certifi>=2017.4.17 in /usr/local/lib/python3.11/dist-packages (from requests->kagglehub) (2025.6.15)\n"
          ]
        }
      ],
      "source": [
        "!pip install --upgrade kagglehub"
      ]
    },
    {
      "cell_type": "code",
      "source": [
        "import kagglehub\n",
        "\n",
        "# Download latest version\n",
        "path = kagglehub.dataset_download(\"datamunge/sign-language-mnist\")\n",
        "print(\"Path to dataset files:\", path)"
      ],
      "metadata": {
        "colab": {
          "base_uri": "https://localhost:8080/"
        },
        "id": "ixpnl5b4uJcK",
        "outputId": "c6af6926-73d2-45d2-f943-9590590735e8"
      },
      "execution_count": 42,
      "outputs": [
        {
          "output_type": "stream",
          "name": "stdout",
          "text": [
            "Path to dataset files: /kaggle/input/sign-language-mnist\n"
          ]
        }
      ]
    },
    {
      "cell_type": "code",
      "source": [
        "print(os.listdir(path))"
      ],
      "metadata": {
        "colab": {
          "base_uri": "https://localhost:8080/"
        },
        "id": "qlGj00f8I9T7",
        "outputId": "e14098ea-e366-4029-c2f2-003f043ac00f"
      },
      "execution_count": 43,
      "outputs": [
        {
          "output_type": "stream",
          "name": "stdout",
          "text": [
            "['sign_mnist_test.csv', 'sign_mnist_test', 'sign_mnist_train', 'amer_sign2.png', 'amer_sign3.png', 'sign_mnist_train.csv', 'american_sign_language.PNG']\n"
          ]
        }
      ]
    },
    {
      "cell_type": "code",
      "source": [
        "train_dir = os.path.join(path, \"sign_mnist_train.csv\")\n",
        "test_dir = os.path.join(path, \"sign_mnist_test.csv\")"
      ],
      "metadata": {
        "id": "ipepqjYwIEtB"
      },
      "execution_count": 44,
      "outputs": []
    },
    {
      "cell_type": "code",
      "source": [
        "train_df=pd.read_csv(train_dir)\n",
        "test_df=pd.read_csv(test_dir)\n",
        "\n",
        "train_images=train_df.drop('label',axis=1).values.reshape((-1,28,28,1))\n",
        "train_labels=train_df['label'].values\n",
        "\n",
        "test_images=test_df.drop('label',axis=1).values.reshape((-1,28,28,1))\n",
        "test_labels=test_df['label'].values"
      ],
      "metadata": {
        "id": "Rt8UFJPe6ghZ"
      },
      "execution_count": 45,
      "outputs": []
    },
    {
      "cell_type": "code",
      "source": [
        "print(train_images.shape)\n",
        "print(train_labels.shape)\n",
        "print(test_images.shape)\n",
        "print(test_labels.shape)"
      ],
      "metadata": {
        "colab": {
          "base_uri": "https://localhost:8080/"
        },
        "id": "u88gWpAHEfdW",
        "outputId": "82292f98-c75d-4107-eb4e-63c8a6e5f0f0"
      },
      "execution_count": 46,
      "outputs": [
        {
          "output_type": "stream",
          "name": "stdout",
          "text": [
            "(27455, 28, 28, 1)\n",
            "(27455,)\n",
            "(7172, 28, 28, 1)\n",
            "(7172,)\n"
          ]
        }
      ]
    },
    {
      "cell_type": "code",
      "source": [
        "# One image's shape is\n",
        "train_images[0].shape"
      ],
      "metadata": {
        "id": "aiHpyim_4Ozn",
        "colab": {
          "base_uri": "https://localhost:8080/"
        },
        "outputId": "af712c50-a730-496a-fb17-d566479f4096"
      },
      "execution_count": 47,
      "outputs": [
        {
          "output_type": "execute_result",
          "data": {
            "text/plain": [
              "(28, 28, 1)"
            ]
          },
          "metadata": {},
          "execution_count": 47
        }
      ]
    },
    {
      "cell_type": "markdown",
      "source": [
        "Can you explain what these  numbers mean?\n",
        "\n",
        "\n",
        "(28, 28, 1) shape means: image is 28 pixels high * 28 pixels wide, and it has 1 color channel (grayscale).\n"
      ],
      "metadata": {
        "id": "M59Ws36WMILU"
      }
    },
    {
      "cell_type": "markdown",
      "source": [
        "#Visualize the Data\n",
        "\n",
        "Visualize some images from `train_images` and `test_images` and then look at the corresponding labels (Keep in mind, they are numbers!)\n",
        ">When interpreting what the numbers are look at the image at the top of the notebook. There are\n",
        "\n",
        "Use `plt.imshow(Put the image here)` -> Accepts (Height, Width, Channel)\n",
        ">Plug in an index of data\n",
        "\n"
      ],
      "metadata": {
        "id": "HRINtIKBK20y"
      }
    },
    {
      "cell_type": "code",
      "source": [
        "# CODE HERE (set up image_num with text input)\n",
        "image_num = int(input(\"Enter the image index (0 to {}): \".format(len(train_images) - 1)))"
      ],
      "metadata": {
        "id": "B1qFrGnQHYSa",
        "colab": {
          "base_uri": "https://localhost:8080/"
        },
        "outputId": "de1b3354-3efe-40c5-bbdd-258329903346"
      },
      "execution_count": 49,
      "outputs": [
        {
          "name": "stdout",
          "output_type": "stream",
          "text": [
            "Enter the image index (0 to 27454): 3\n"
          ]
        }
      ]
    },
    {
      "cell_type": "code",
      "source": [
        "# CODE HERE (print shape of image)\n",
        "print(f'Selected image shape: {train_images[image_num].shape}')"
      ],
      "metadata": {
        "id": "wjDiETv0LVFP",
        "colab": {
          "base_uri": "https://localhost:8080/"
        },
        "outputId": "15676b85-ea2e-44c6-ba6f-b3aeb2b18889"
      },
      "execution_count": 50,
      "outputs": [
        {
          "output_type": "stream",
          "name": "stdout",
          "text": [
            "Selected image shape: (28, 28, 1)\n"
          ]
        }
      ]
    },
    {
      "cell_type": "code",
      "source": [
        "# CODE HERE (plot the image)\n",
        "plt.imshow(train_images[image_num].squeeze(), cmap='gray')\n",
        "plt.title(f\"Label: {train_labels[image_num]} → Letter: {num_to_letter[train_labels[image_num]]}\")\n",
        "plt.axis('off')\n",
        "plt.show()"
      ],
      "metadata": {
        "id": "WmIOTHmJNmjh",
        "colab": {
          "base_uri": "https://localhost:8080/",
          "height": 428
        },
        "outputId": "fa981674-5d55-4b08-b327-9a073c4f577e"
      },
      "execution_count": 51,
      "outputs": [
        {
          "output_type": "display_data",
          "data": {
            "text/plain": [
              "<Figure size 640x480 with 1 Axes>"
            ],
            "image/png": "[encoded data removed]"
          },
          "metadata": {}
        }
      ]
    },
    {
      "cell_type": "code",
      "source": [
        "for i in range(10):\n",
        "    print(f\"Image index: {i} → Label: {train_labels[i]} → Letter: {num_to_letter[train_labels[i]]}\")\n"
      ],
      "metadata": {
        "id": "sDqJg5xkVfTC",
        "outputId": "f397d2e9-b91e-4d4f-8811-894c5974bcf1",
        "colab": {
          "base_uri": "https://localhost:8080/"
        }
      },
      "execution_count": 52,
      "outputs": [
        {
          "output_type": "stream",
          "name": "stdout",
          "text": [
            "Image index: 0 → Label: 3 → Letter: D\n",
            "Image index: 1 → Label: 6 → Letter: G\n",
            "Image index: 2 → Label: 2 → Letter: C\n",
            "Image index: 3 → Label: 2 → Letter: C\n",
            "Image index: 4 → Label: 13 → Letter: O\n",
            "Image index: 5 → Label: 16 → Letter: R\n",
            "Image index: 6 → Label: 8 → Letter: I\n",
            "Image index: 7 → Label: 22 → Letter: X\n",
            "Image index: 8 → Label: 3 → Letter: D\n",
            "Image index: 9 → Label: 3 → Letter: D\n"
          ]
        }
      ]
    },
    {
      "cell_type": "code",
      "source": [
        "np.unique(train_labels)"
      ],
      "metadata": {
        "id": "6-svkaog73l9",
        "colab": {
          "base_uri": "https://localhost:8080/"
        },
        "outputId": "715ff42b-0ea5-4ae4-e63a-1f5c16ed2193"
      },
      "execution_count": 53,
      "outputs": [
        {
          "output_type": "execute_result",
          "data": {
            "text/plain": [
              "array([ 0,  1,  2,  3,  4,  5,  6,  7,  8, 10, 11, 12, 13, 14, 15, 16, 17,\n",
              "       18, 19, 20, 21, 22, 23, 24])"
            ]
          },
          "metadata": {},
          "execution_count": 53
        }
      ]
    },
    {
      "cell_type": "markdown",
      "source": [
        "#Create the Model"
      ],
      "metadata": {
        "id": "DLiyt9CGNn_E"
      }
    },
    {
      "cell_type": "code",
      "source": [
        "class MLP(nn.Module):\n",
        "  def __init__(self, input_layer=784, output=25):\n",
        "    # CODE HERE (remove the pass afterwards, use Sequential API)\n",
        "    super().__init__()\n",
        "\n",
        "    self.network = nn.Sequential(\n",
        "        nn.Flatten(),\n",
        "        nn.Linear(input_layer, 256), # 1st hidden layer\n",
        "        nn.ReLU(),\n",
        "        nn.Linear(256, 128),  # 2nd hidden layer\n",
        "        nn.ReLU(),\n",
        "        nn.Linear(128, 64),   # 3rd hidden layer\n",
        "        nn.ReLU(),\n",
        "        nn.Linear(64, output) # output layer\n",
        "    )\n",
        "\n",
        "  def forward(self, x):\n",
        "    return self.network(x)\n",
        "\n",
        "model = MLP()"
      ],
      "metadata": {
        "id": "WF2OU2ibOQp4"
      },
      "execution_count": 54,
      "outputs": []
    },
    {
      "cell_type": "code",
      "source": [
        "# CODE HERE (import torch summary)\n",
        "from torchsummary import summary\n"
      ],
      "metadata": {
        "id": "E9N7naleORHa"
      },
      "execution_count": 55,
      "outputs": []
    },
    {
      "cell_type": "code",
      "source": [
        "# CODE HERE (print model summary)\n",
        "summary(model, input_size=(1, 28, 28))"
      ],
      "metadata": {
        "id": "aJWLGcO7ORFS",
        "colab": {
          "base_uri": "https://localhost:8080/"
        },
        "outputId": "6842e6c6-846b-4cfb-e983-dfc75f887aa9"
      },
      "execution_count": 56,
      "outputs": [
        {
          "output_type": "stream",
          "name": "stdout",
          "text": [
            "----------------------------------------------------------------\n",
            "        Layer (type)               Output Shape         Param #\n",
            "================================================================\n",
            "           Flatten-1                  [-1, 784]               0\n",
            "            Linear-2                  [-1, 256]         200,960\n",
            "              ReLU-3                  [-1, 256]               0\n",
            "            Linear-4                  [-1, 128]          32,896\n",
            "              ReLU-5                  [-1, 128]               0\n",
            "            Linear-6                   [-1, 64]           8,256\n",
            "              ReLU-7                   [-1, 64]               0\n",
            "            Linear-8                   [-1, 25]           1,625\n",
            "================================================================\n",
            "Total params: 243,737\n",
            "Trainable params: 243,737\n",
            "Non-trainable params: 0\n",
            "----------------------------------------------------------------\n",
            "Input size (MB): 0.00\n",
            "Forward/backward pass size (MB): 0.01\n",
            "Params size (MB): 0.93\n",
            "Estimated Total Size (MB): 0.95\n",
            "----------------------------------------------------------------\n"
          ]
        }
      ]
    },
    {
      "cell_type": "markdown",
      "source": [
        "#Create the dataloaders"
      ],
      "metadata": {
        "id": "2Q_matEKOUFR"
      }
    },
    {
      "cell_type": "code",
      "source": [
        "# CODE HERE (setup train_images, train_labels, test_images, test_labels as tensors)\n",
        "# Convert images to float tensors and normalize (divide by 255)\n",
        "train_images_tensor = torch.tensor(train_images, dtype=torch.float32) / 255.0\n",
        "test_images_tensor = torch.tensor(test_images, dtype=torch.float32) / 255.0\n",
        "\n",
        "# Convert labels to integer tensors\n",
        "train_labels_tensor = torch.tensor(train_labels, dtype=torch.long)\n",
        "test_labels_tensor = torch.tensor(test_labels, dtype=torch.long)"
      ],
      "metadata": {
        "id": "7JMj0lLyOYA9"
      },
      "execution_count": 57,
      "outputs": []
    },
    {
      "cell_type": "code",
      "source": [
        "# CODE HERE (print shape of all 4 tensors)\n",
        "print(train_images_tensor.shape)\n",
        "print(train_labels_tensor.shape)\n",
        "print(test_images_tensor.shape)\n",
        "print(test_labels_tensor.shape)"
      ],
      "metadata": {
        "id": "C5RosV5ZRsuC",
        "colab": {
          "base_uri": "https://localhost:8080/"
        },
        "outputId": "ad2d56dd-28ac-4837-e360-4f23e2404240"
      },
      "execution_count": 58,
      "outputs": [
        {
          "output_type": "stream",
          "name": "stdout",
          "text": [
            "torch.Size([27455, 28, 28, 1])\n",
            "torch.Size([27455])\n",
            "torch.Size([7172, 28, 28, 1])\n",
            "torch.Size([7172])\n"
          ]
        }
      ]
    },
    {
      "cell_type": "code",
      "source": [
        "# CODE HERE (setup train_set and test_set as a TensorDataset)\n",
        "from torch.utils.data import TensorDataset\n",
        "train_set = TensorDataset(train_images_tensor, train_labels_tensor)\n",
        "test_set = TensorDataset(test_images_tensor, test_labels_tensor)"
      ],
      "metadata": {
        "id": "FwNsGTuJ8ZMv"
      },
      "execution_count": 59,
      "outputs": []
    },
    {
      "cell_type": "code",
      "source": [
        "# CODE HERE (setup train_loader and test_loader using DataLoader)\n",
        "from torch.utils.data import DataLoader\n",
        "train_loader = DataLoader(train_set, batch_size=32, shuffle=True)\n",
        "test_loader = DataLoader(test_set, batch_size=32, shuffle=False)"
      ],
      "metadata": {
        "id": "Egzesnq18Zpz"
      },
      "execution_count": 60,
      "outputs": []
    },
    {
      "cell_type": "markdown",
      "source": [
        "#Create the Loss Function & Optimizer"
      ],
      "metadata": {
        "id": "3ESHaOZnR201"
      }
    },
    {
      "cell_type": "markdown",
      "source": [
        "Tips:\n",
        "- To determine what loss function to use, think about the type of task this model is supposed to perform, and recall which loss function we use for that task.\n",
        "- Use the same optimizer which we used in the in-class lecture (we'll be using this one for most of our projects)"
      ],
      "metadata": {
        "id": "d5pbmnYx8zB2"
      }
    },
    {
      "cell_type": "code",
      "source": [
        "# CODE HERE (loss_fn & optimizer)\n",
        "# Cross Entropy Loss is best for multi-class classification problem\n",
        "# loss function\n",
        "loss_fn = nn.CrossEntropyLoss()\n",
        "# optimizer\n",
        "optimizer = torch.optim.Adam(params=model.parameters(), lr=0.0001)"
      ],
      "metadata": {
        "id": "YXT4En32R-8T"
      },
      "execution_count": 67,
      "outputs": []
    },
    {
      "cell_type": "markdown",
      "source": [
        "#Create the Train Loop"
      ],
      "metadata": {
        "id": "x593KaE0SAq2"
      }
    },
    {
      "cell_type": "markdown",
      "source": [
        "Recall all of the steps of the train_loop from the in-class project"
      ],
      "metadata": {
        "id": "zvpYTZ1N9ry5"
      }
    },
    {
      "cell_type": "code",
      "source": [
        "def train_loop(model, train_loader, loss_fn, optimizer, epochs):\n",
        "  # CODE HERE (steps 2-3)\n",
        "  model.train()\n",
        "  train_loss = []\n",
        "\n",
        "  for epoch in range(epochs):\n",
        "    train_loss_epoch = 0\n",
        "\n",
        "    for image, label in tqdm(train_loader, desc=\"Training Model\"):\n",
        "      # CODE HERE (steps 6-9)\n",
        "      optimizer.zero_grad()\n",
        "      pred = model(image)\n",
        "      loss = loss_fn(pred, label)\n",
        "      loss.backward()\n",
        "      optimizer.step()\n",
        "      train_loss_epoch += loss.item()\n",
        "\n",
        "    # CODE HERE (steps 10-11) - note the indent is different\n",
        "    avg_loss = train_loss_epoch / len(train_loader)\n",
        "    train_loss.append(avg_loss)\n",
        "    print(f\"Epoch {epoch + 1}/{epochs} - Loss: {train_loss_epoch:.4f}\")\n",
        "\n",
        "  return train_loss"
      ],
      "metadata": {
        "id": "eAIEO791SCO8"
      },
      "execution_count": 68,
      "outputs": []
    },
    {
      "cell_type": "code",
      "source": [
        "# CODE HERE (run the train_loop by setting it to 'losses' variable)\n",
        "train_loss = train_loop(model, train_loader, loss_fn, optimizer, epochs=15)"
      ],
      "metadata": {
        "id": "RFmOfEmN-dKy",
        "colab": {
          "base_uri": "https://localhost:8080/"
        },
        "outputId": "debe6a7f-160a-4fec-9a80-fe652315655e"
      },
      "execution_count": 70,
      "outputs": [
        {
          "output_type": "stream",
          "name": "stderr",
          "text": [
            "Training Model: 100%|██████████| 858/858 [00:05<00:00, 171.11it/s]\n"
          ]
        },
        {
          "output_type": "stream",
          "name": "stdout",
          "text": [
            "Epoch 1/15 - Loss: 0.7981\n"
          ]
        },
        {
          "output_type": "stream",
          "name": "stderr",
          "text": [
            "Training Model: 100%|██████████| 858/858 [00:05<00:00, 156.30it/s]\n"
          ]
        },
        {
          "output_type": "stream",
          "name": "stdout",
          "text": [
            "Epoch 2/15 - Loss: 2.4117\n"
          ]
        },
        {
          "output_type": "stream",
          "name": "stderr",
          "text": [
            "Training Model: 100%|██████████| 858/858 [00:04<00:00, 179.76it/s]\n"
          ]
        },
        {
          "output_type": "stream",
          "name": "stdout",
          "text": [
            "Epoch 3/15 - Loss: 0.4209\n"
          ]
        },
        {
          "output_type": "stream",
          "name": "stderr",
          "text": [
            "Training Model: 100%|██████████| 858/858 [00:05<00:00, 150.40it/s]\n"
          ]
        },
        {
          "output_type": "stream",
          "name": "stdout",
          "text": [
            "Epoch 4/15 - Loss: 0.3100\n"
          ]
        },
        {
          "output_type": "stream",
          "name": "stderr",
          "text": [
            "Training Model: 100%|██████████| 858/858 [00:04<00:00, 178.08it/s]\n"
          ]
        },
        {
          "output_type": "stream",
          "name": "stdout",
          "text": [
            "Epoch 5/15 - Loss: 0.2461\n"
          ]
        },
        {
          "output_type": "stream",
          "name": "stderr",
          "text": [
            "Training Model: 100%|██████████| 858/858 [00:05<00:00, 154.33it/s]\n"
          ]
        },
        {
          "output_type": "stream",
          "name": "stdout",
          "text": [
            "Epoch 6/15 - Loss: 0.2103\n"
          ]
        },
        {
          "output_type": "stream",
          "name": "stderr",
          "text": [
            "Training Model: 100%|██████████| 858/858 [00:05<00:00, 170.87it/s]\n"
          ]
        },
        {
          "output_type": "stream",
          "name": "stdout",
          "text": [
            "Epoch 7/15 - Loss: 1.9807\n"
          ]
        },
        {
          "output_type": "stream",
          "name": "stderr",
          "text": [
            "Training Model: 100%|██████████| 858/858 [00:04<00:00, 177.77it/s]\n"
          ]
        },
        {
          "output_type": "stream",
          "name": "stdout",
          "text": [
            "Epoch 8/15 - Loss: 0.1755\n"
          ]
        },
        {
          "output_type": "stream",
          "name": "stderr",
          "text": [
            "Training Model: 100%|██████████| 858/858 [00:05<00:00, 147.81it/s]\n"
          ]
        },
        {
          "output_type": "stream",
          "name": "stdout",
          "text": [
            "Epoch 9/15 - Loss: 0.1424\n"
          ]
        },
        {
          "output_type": "stream",
          "name": "stderr",
          "text": [
            "Training Model: 100%|██████████| 858/858 [00:05<00:00, 156.33it/s]\n"
          ]
        },
        {
          "output_type": "stream",
          "name": "stdout",
          "text": [
            "Epoch 10/15 - Loss: 0.1202\n"
          ]
        },
        {
          "output_type": "stream",
          "name": "stderr",
          "text": [
            "Training Model: 100%|██████████| 858/858 [00:05<00:00, 145.93it/s]\n"
          ]
        },
        {
          "output_type": "stream",
          "name": "stdout",
          "text": [
            "Epoch 11/15 - Loss: 0.1111\n"
          ]
        },
        {
          "output_type": "stream",
          "name": "stderr",
          "text": [
            "Training Model: 100%|██████████| 858/858 [00:04<00:00, 177.76it/s]\n"
          ]
        },
        {
          "output_type": "stream",
          "name": "stdout",
          "text": [
            "Epoch 12/15 - Loss: 0.1152\n"
          ]
        },
        {
          "output_type": "stream",
          "name": "stderr",
          "text": [
            "Training Model: 100%|██████████| 858/858 [00:05<00:00, 160.76it/s]\n"
          ]
        },
        {
          "output_type": "stream",
          "name": "stdout",
          "text": [
            "Epoch 13/15 - Loss: 0.0831\n"
          ]
        },
        {
          "output_type": "stream",
          "name": "stderr",
          "text": [
            "Training Model: 100%|██████████| 858/858 [00:05<00:00, 165.13it/s]\n"
          ]
        },
        {
          "output_type": "stream",
          "name": "stdout",
          "text": [
            "Epoch 14/15 - Loss: 2.1341\n"
          ]
        },
        {
          "output_type": "stream",
          "name": "stderr",
          "text": [
            "Training Model: 100%|██████████| 858/858 [00:04<00:00, 176.59it/s]"
          ]
        },
        {
          "output_type": "stream",
          "name": "stdout",
          "text": [
            "Epoch 15/15 - Loss: 0.1019\n"
          ]
        },
        {
          "output_type": "stream",
          "name": "stderr",
          "text": [
            "\n"
          ]
        }
      ]
    },
    {
      "cell_type": "markdown",
      "source": [
        "#Visualize the Loss Drop"
      ],
      "metadata": {
        "id": "500znOFTSN3f"
      }
    },
    {
      "cell_type": "code",
      "source": [
        "# CODE HERE (plot the Loss vs. Epochs graph)\n",
        "epoch_list = list(range(1, len(train_loss) + 1))\n",
        "plt.plot(epoch_list, train_loss)\n",
        "plt.xlabel('Epochs')\n",
        "plt.ylabel('Loss')\n",
        "plt.title('Loss vs. Epochs')\n",
        "plt.show()"
      ],
      "metadata": {
        "id": "jan8uEDESr67",
        "colab": {
          "base_uri": "https://localhost:8080/",
          "height": 472
        },
        "outputId": "2a0d57d0-8f59-49e8-ca8f-a31cde03f9d7"
      },
      "execution_count": 71,
      "outputs": [
        {
          "output_type": "display_data",
          "data": {
            "text/plain": [
              "<Figure size 640x480 with 1 Axes>"
            ],
            "image/png": "[encoded data removed]"
          },
          "metadata": {}
        }
      ]
    },
    {
      "cell_type": "markdown",
      "source": [
        "#Creating the Testing Function"
      ],
      "metadata": {
        "id": "J5rDmIF7Ss68"
      }
    },
    {
      "cell_type": "code",
      "source": [
        "# CODE HERE (define accuracy function)\n",
        "def accuracy(correct, total):\n",
        "  if total == 0:\n",
        "    return 0\n",
        "  return correct / total * 100"
      ],
      "metadata": {
        "id": "Jvy92m6LSwfO"
      },
      "execution_count": 75,
      "outputs": []
    },
    {
      "cell_type": "markdown",
      "source": [
        "For the test_loop, again recall the steps we used from the in-class project (but with a few tweaks)"
      ],
      "metadata": {
        "id": "JtT4IV7t_CCq"
      }
    },
    {
      "cell_type": "code",
      "source": [
        "def test_loop(test_dataloader, model):\n",
        "  # CODE HERE (steps 3-4)\n",
        "  model.eval()\n",
        "  correct = 0\n",
        "  total = 0\n",
        "\n",
        "  with torch.no_grad():\n",
        "    for image, label in tqdm(test_dataloader, desc=\"Testing Model\"):\n",
        "      # CODE HERE (steps 7-8)\n",
        "      pred = model(image)\n",
        "      correct += (pred.argmax(1) == label).type(torch.float).sum().item()\n",
        "      total += len(label)\n",
        "    # CODE HERE (modified step 9) - print the # of correct predictions and # of total samples - note the indent is different\n",
        "    print(f\"Correct predictions: {int(correct)}\")\n",
        "    print(f\"Total samples: {total}\")\n",
        "  # CODE HERE (create an 'accuracy' variable which calculates using your accuracy function)\n",
        "  calculated_accuracy = accuracy(correct, total)\n",
        "  print(f\"Accuracy: {calculated_accuracy:.2f}%\")\n",
        "  return calculated_accuracy"
      ],
      "metadata": {
        "id": "xPte-RiaSyBl"
      },
      "execution_count": 79,
      "outputs": []
    },
    {
      "cell_type": "code",
      "source": [
        "# CODE HERE (run your test_loop by setting it to an accuracy variable)\n",
        "accuracy = test_loop(test_loader, model)"
      ],
      "metadata": {
        "id": "RiC3CjeXSx_C",
        "colab": {
          "base_uri": "https://localhost:8080/"
        },
        "outputId": "5de6cb9f-1e56-4609-f09d-48c36316d01a"
      },
      "execution_count": 80,
      "outputs": [
        {
          "output_type": "stream",
          "name": "stderr",
          "text": [
            "Testing Model: 100%|██████████| 225/225 [00:00<00:00, 788.73it/s]"
          ]
        },
        {
          "output_type": "stream",
          "name": "stdout",
          "text": [
            "Correct predictions: 5562\n",
            "Total samples: 7172\n",
            "Accuracy: 77.55%\n"
          ]
        },
        {
          "output_type": "stream",
          "name": "stderr",
          "text": [
            "\n"
          ]
        }
      ]
    },
    {
      "cell_type": "markdown",
      "source": [
        "Play around a bit with different images from the dataset and see how the\n",
        "model predicts using it"
      ],
      "metadata": {
        "id": "8pyk2bdyA5Xz"
      }
    },
    {
      "cell_type": "code",
      "source": [
        "# CODE HERE (pick a random image index - set it to 'image' and plot it using plt)\n",
        "# If not already done: convert test_images from numpy to PyTorch tensor\n",
        "if isinstance(test_images, np.ndarray):\n",
        "    test_images = torch.tensor(test_images, dtype=torch.float32)\n",
        "\n",
        "# Pick a random valid image index\n",
        "image = torch.randint(0, len(test_images), (1,)).item()\n",
        "\n",
        "# Plot the selected image\n",
        "plt.imshow(test_images[image].squeeze(), cmap='gray')\n",
        "plt.title(f\"Selected Image Index: {image}\")\n",
        "plt.axis('off')\n",
        "plt.show()"
      ],
      "metadata": {
        "id": "01rXMqJ5Sw4W",
        "colab": {
          "base_uri": "https://localhost:8080/",
          "height": 428
        },
        "outputId": "f487d78f-6b6b-428d-93d1-fa9a8f7c1170"
      },
      "execution_count": 124,
      "outputs": [
        {
          "output_type": "display_data",
          "data": {
            "text/plain": [
              "<Figure size 640x480 with 1 Axes>"
            ],
            "image/png": "[encoded data removed]"
          },
          "metadata": {}
        }
      ]
    },
    {
      "cell_type": "code",
      "source": [
        "# below code will show model prediction based on the image you picked, you don't have to change this\n",
        "with torch.no_grad():\n",
        "  pred = model(test_images[image].to(torch.float32).unsqueeze(0))\n",
        "  print(num_to_letter[pred.argmax(1).item()])"
      ],
      "metadata": {
        "id": "s_2MW0CxBE68",
        "colab": {
          "base_uri": "https://localhost:8080/"
        },
        "outputId": "3013fb69-b621-4fca-ad48-c45e57333e0c"
      },
      "execution_count": 125,
      "outputs": [
        {
          "output_type": "stream",
          "name": "stdout",
          "text": [
            "F\n"
          ]
        }
      ]
    },
    {
      "cell_type": "markdown",
      "source": [
        "<img src=\"https://storage.googleapis.com/kaggle-datasets-images/3258/5337/0dade1b95b22cceac471b309fc8a8f63/dataset-cover.png\" alt=\"Sign Language Dataset\">"
      ],
      "metadata": {
        "id": "kSLtm_siBVFc"
      }
    },
    {
      "cell_type": "markdown",
      "source": [
        "You're all done! Submit this file to Canvas"
      ],
      "metadata": {
        "id": "BNvupjOIBaeH"
      }
    }
  ]
}